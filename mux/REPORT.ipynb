{
 "cells": [
  {
   "cell_type": "markdown",
   "metadata": {},
   "source": [
    "## Мультиплексор"
   ]
  },
  {
   "cell_type": "markdown",
   "metadata": {},
   "source": [
    "# Синтез"
   ]
  },
  {
   "cell_type": "markdown",
   "metadata": {},
   "source": [
    "Код для создания мультиплексора с 7-ю входами:\n",
    "\n",
    "'''\n",
    "\n",
    "\tmodule my_mux(a, b, c, d, e, f, g, addr, mux_out);\n",
    "\t\tinput a,\n",
    "\t\t\tb,\n",
    "\t\t\tc,\n",
    "\t\t\td,\n",
    "\t\t\te,\n",
    "\t\t\tf,\n",
    "\t\t\tg;\n",
    "\t\t\t\t\n",
    "\t\tinput\t[2:0] addr;\n",
    "\t\t\n",
    "\t\toutput mux_out;\n",
    "\t\t\n",
    "\t\twire [6:0] in_vec = {g, f, e, d, c, b, a};\n",
    "\n",
    "\t\tassign mux_out = in_vec[addr];\n",
    "\n",
    "\tendmodule \n",
    "\n",
    "'''"
   ]
  },
  {
   "cell_type": "markdown",
   "metadata": {},
   "source": [
    "<img src=\"synt.png\" alt=\"SYNT\" width=\"600\" />"
   ]
  },
  {
   "cell_type": "markdown",
   "metadata": {},
   "source": [
    "<img src=\"scheme.png\" alt=\"Схема тиратрона\" width=\"600\" />"
   ]
  },
  {
   "cell_type": "markdown",
   "metadata": {},
   "source": [
    "# Симуляция"
   ]
  },
  {
   "cell_type": "markdown",
   "metadata": {},
   "source": [
    "Код для проверки работы мультиплексора\n",
    "\n",
    "'''\n",
    "\n",
    "\tmodule my_mux_tb;\n",
    "\t\treg a,\n",
    "\t\t\tb,\n",
    "\t\t\tc,\n",
    "\t\t\td,\n",
    "\t\t\te,\n",
    "\t\t\tf,\n",
    "\t\t\tg;\n",
    "\t\t\t\n",
    "\t\treg [2:0] addr;\n",
    "\t\t\t\n",
    "\t\twire res;\n",
    "\t\t\t\n",
    "\t\tmy_mux my_mux_res(a, b, c, d, e, f, g, addr, res);\n",
    "\t\t\n",
    "\t\tinitial begin\n",
    "\t\t\t$monitor(\"%d  --->  %b %b %b %b %b %b %b %b %b\",$time, a, b, c, d, e, f, g, addr, res);\n",
    "\n",
    "\t\t\ta = 1;\n",
    "\t\t\tb = 1;\n",
    "\t\t\tc = 0;\n",
    "\t\t\td = 0;\n",
    "\t\t\te = 1;\n",
    "\t\t\tf = 0;\n",
    "\t\t\tg = 0;\n",
    "\t\t\taddr = 0;\n",
    "\t\t\n",
    "\t\t\t#5;\n",
    "\t\t\t\n",
    "\t\t\taddr = 1;\n",
    "\t\t\t\n",
    "\n",
    "\t\t\t#5;\n",
    "\t\t\t\n",
    "\t\t\taddr = 2;\n",
    "\t\t\t\n",
    "\n",
    "\t\t\t#5;\n",
    "\t\t\t\n",
    "\t\t\taddr = 3;\n",
    "\t\t\t\n",
    "\n",
    "\t\t\t#5;\n",
    "\t\t\t\n",
    "\t\t\taddr = 6;\n",
    "\n",
    "\t\t\t#5;\n",
    "\t\t\t\n",
    "\t\t\tg = 1;\n",
    "\t\t\t\n",
    "\t\t\t#5;\n",
    "\t\t\t\n",
    "\t\t\t$stop;\n",
    "\t\tend\n",
    "\tendmodule \n",
    "\n",
    "'''"
   ]
  },
  {
   "cell_type": "markdown",
   "metadata": {},
   "source": [
    "<img src=\"sim.png\" alt=\"Схема тиратрона\" width=\"600\" />"
   ]
  },
  {
   "cell_type": "markdown",
   "metadata": {},
   "source": [
    "При изменении значения addr от 0 до 3 - мультиплесор выбирает значения на входах 0-3 соответсвенно\n",
    "Для того чтобы показать, что мультиплексор действительно выбирает значения на входе выбранонм входе, был выбран индекс 6 и изменено значение на его входе\n",
    "\n",
    "Мультиплексор показывает верные значения в ходе всего эксперимента"
   ]
  }
 ],
 "metadata": {
  "kernelspec": {
   "display_name": "base",
   "language": "python",
   "name": "python3"
  },
  "language_info": {
   "name": "python",
   "version": "3.9.12"
  }
 },
 "nbformat": 4,
 "nbformat_minor": 2
}
